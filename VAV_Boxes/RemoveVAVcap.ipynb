{
 "cells": [
  {
   "cell_type": "code",
   "execution_count": 2,
   "metadata": {},
   "outputs": [],
   "source": [
    "from lxml import etree as ET\n",
    "import pandas as pd\n",
    "\n",
    "# Presidio Knolls 100CD_No ERV\n",
    "# SRJC STEM Building Title 24\n",
    "\n",
    "file = ('SRJC STEM Building Title 24.cibd16x')\n",
    "filename = file.split('.')[0]\n",
    "\n",
    "tree = ET.parse(file)\n",
    "root = tree.getroot()\n",
    "\n",
    "excel_file = filename + ' - VAVData.xlsx'"
   ]
  },
  {
   "cell_type": "code",
   "execution_count": 27,
   "metadata": {},
   "outputs": [],
   "source": [
    "trml_unit_list = []\n",
    "\n",
    "# Only for uncontrolled or VAV boxes. No fan-powered boxes or active beams\n",
    "for unit in root.iter('TrmlUnit'):\n",
    "    trml = {}\n",
    "    trml['Type'] = unit.find('Type').text\n",
    "    if trml['Type'] == 'VAVReheatBox':\n",
    "        try:\n",
    "            unit.find('CoilHtg').remove(unit.find('CoilHtg/CapTotNetRtd'))\n",
    "        except:\n",
    "            try:\n",
    "                unit.find('CoilHtg').remove(unit.find('CoilHtg/CapTotGrossRtd'))\n",
    "            except:\n",
    "                pass"
   ]
  },
  {
   "cell_type": "code",
   "execution_count": 28,
   "metadata": {},
   "outputs": [],
   "source": [
    "tree.write(filename + '_new.cibd16x', pretty_print=True)"
   ]
  }
 ],
 "metadata": {
  "kernelspec": {
   "display_name": "Python 3",
   "language": "python",
   "name": "python3"
  },
  "language_info": {
   "codemirror_mode": {
    "name": "ipython",
    "version": 3
   },
   "file_extension": ".py",
   "mimetype": "text/x-python",
   "name": "python",
   "nbconvert_exporter": "python",
   "pygments_lexer": "ipython3",
   "version": "3.7.3"
  }
 },
 "nbformat": 4,
 "nbformat_minor": 2
}
