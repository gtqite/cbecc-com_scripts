{
 "cells": [
  {
   "cell_type": "markdown",
   "metadata": {},
   "source": [
    "### How to use Jupyter Notebook:\n",
    "\n",
    "To run the cells with code, click \"Run\" on the toolbar above or hit Ctrl+Shift on the keyboard. Runable cells have the In[ ] on the left side."
   ]
  },
  {
   "cell_type": "markdown",
   "metadata": {},
   "source": [
    "# Create VAV box\n",
    "\n",
    "Simple script to generate a text file with the XML format for VAV Boxes. Paste the generated XML file inside the AirSys element representing the Air Handler you want to assign the VAV boxes to, above /AirSys line. \n",
    "\n",
    "*Currently limited to VAV with reheat boxes with hot water reheat coils.*\n",
    "\n",
    "<img src=\"VAVBoxPaste.png\" width=\"600\" align=\"left\">"
   ]
  },
  {
   "cell_type": "markdown",
   "metadata": {},
   "source": [
    "## Set up names for AHU"
   ]
  },
  {
   "cell_type": "code",
   "execution_count": null,
   "metadata": {},
   "outputs": [],
   "source": [
    "AHU = 'AHU-1'\n",
    "HWS = 'HWS'\n",
    "HWR = 'HWR'\n",
    "\n",
    "file = open('VAV_box.txt','w')\n",
    "\n",
    "VAV_list = []\n",
    "for i in range(101,124):\n",
    "    VAV_list.append('        <TrmlUnit>\\n          <Name>VAV {0}</Name>\\n          <Type>VAVReheatBox</Type>\\n          <PriAirSegRef>{1}</PriAirSegRef>\\n          <CoilHtg>\\n            <Name>VAV {0} RHC</Name>\\n            <Type>HotWater</Type>\\n            <FluidSegInRef>{2}</FluidSegInRef>\\n            <FluidSegOutRef>{3}</FluidSegOutRef>\\n          </CoilHtg>\\n        </TrmlUnit>'.format(i, AHU, HWS, HWR))\n",
    "\n",
    "VAV_string = '\\n'.join(VAV_list)\n",
    "file.write(VAV_string)\n",
    "file.close()\n"
   ]
  }
 ],
 "metadata": {
  "kernelspec": {
   "display_name": "Python 3",
   "language": "python",
   "name": "python3"
  },
  "language_info": {
   "codemirror_mode": {
    "name": "ipython",
    "version": 3
   },
   "file_extension": ".py",
   "mimetype": "text/x-python",
   "name": "python",
   "nbconvert_exporter": "python",
   "pygments_lexer": "ipython3",
   "version": "3.7.3"
  }
 },
 "nbformat": 4,
 "nbformat_minor": 2
}
