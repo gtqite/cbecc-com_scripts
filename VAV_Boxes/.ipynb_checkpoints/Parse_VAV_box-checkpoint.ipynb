{
 "cells": [
  {
   "cell_type": "code",
   "execution_count": 1,
   "metadata": {},
   "outputs": [],
   "source": [
    "from lxml import etree as ET\n",
    "import pandas as pd\n",
    "\n",
    "# Presidio Knolls 100CD_No ERV\n",
    "# SRJC STEM Building Title 24\n",
    "\n",
    "file = ('SRJC STEM Building Title 24.cibd16x')\n",
    "filename = file.split('.')[0]\n",
    "\n",
    "tree = ET.parse(file)\n",
    "root = tree.getroot()\n",
    "\n",
    "excel_file = filename + ' - VAVData.xlsx'"
   ]
  },
  {
   "cell_type": "code",
   "execution_count": 4,
   "metadata": {},
   "outputs": [],
   "source": [
    "trml_unit_list = []\n",
    "\n",
    "# Only for uncontrolled or VAV boxes. No fan-powered boxes or active beams\n",
    "for unit in root.iter('TrmlUnit'):\n",
    "    trml = {}\n",
    "    \n",
    "    trml['Terminal Unit Name'] = unit.find('Name').text\n",
    "    trml['Type'] = unit.find('Type').text\n",
    "    trml['Assigned AHU'] = unit.getparent().find('Name').text\n",
    "    trml['Zone Served'] = unit.find('ZnServedRef').text\n",
    "    trml['Primary Flow'] = float(unit.find('PriAirFlowMax').text)\n",
    "    try:\n",
    "        trml['Primary Min. Flow'] = float(unit.find('PriAirFlowMin').text)\n",
    "    except:\n",
    "        pass\n",
    "    \n",
    "    if trml['Type'] == 'VAVReheatBox':\n",
    "        try:\n",
    "            trml['Heating Air Flow'] = float(unit.find('HtgAirFlowMax').text)\n",
    "        except:\n",
    "            pass\n",
    "        try:\n",
    "            trml['Reheat Coil Name'] = unit.find('CoilHtg/Name').text\n",
    "        except:\n",
    "            pass\n",
    "        try:\n",
    "            trml['Reheat Coil Type'] = unit.find('CoilHtg/Type').text\n",
    "        except:\n",
    "            pass\n",
    "        heating_cap = 0\n",
    "        try:\n",
    "            heating_cap += float(unit.find('CoilHtg/CapTotNetRtd').text)\n",
    "        except:\n",
    "            try:\n",
    "                heating_cap += float(unit.find('CoilHtg/CapTotGrossRtd').text)\n",
    "            except:\n",
    "                pass\n",
    "        trml['Reheat Coil Capacity'] = heating_cap\n",
    "    trml_unit_list.append(trml)\n",
    "    \n",
    "trml_header = [\n",
    "    'Terminal Unit Name', 'Type', 'Assigned AHU', 'Zone Served', \n",
    "    'Primary Flow', 'Primary Min. Flow', 'Heating Air Flow', \n",
    "    'Reheat Coil Name', 'Reheat Coil Type', 'Reheat Coil Capacity'\n",
    "]\n",
    "    \n",
    "trml_df = pd.DataFrame(trml_unit_list, columns=trml_header)"
   ]
  },
  {
   "cell_type": "code",
   "execution_count": 3,
   "metadata": {},
   "outputs": [],
   "source": [
    "writer = pd.ExcelWriter(excel_file, engine='xlsxwriter')\n",
    "trml_df.to_excel(writer,sheet_name='Terminal Units')\n",
    "writer.save()"
   ]
  }
 ],
 "metadata": {
  "kernelspec": {
   "display_name": "Python 3",
   "language": "python",
   "name": "python3"
  },
  "language_info": {
   "codemirror_mode": {
    "name": "ipython",
    "version": 3
   },
   "file_extension": ".py",
   "mimetype": "text/x-python",
   "name": "python",
   "nbconvert_exporter": "python",
   "pygments_lexer": "ipython3",
   "version": "3.7.3"
  }
 },
 "nbformat": 4,
 "nbformat_minor": 2
}
