{
 "cells": [
  {
   "cell_type": "markdown",
   "metadata": {},
   "source": [
    "## CBECC-com XML file parser to Excel\n",
    "\n",
    "Use this notebook to parse .cibdx or .xml file into an excel sheet for reviewing the model"
   ]
  },
  {
   "cell_type": "code",
   "execution_count": 48,
   "metadata": {},
   "outputs": [],
   "source": [
    "file = ('Presidio Knolls 100CD_No ERV.cibd16x')\n",
    "\n",
    "from lxml import etree as ET\n",
    "import pandas as pd\n",
    "\n",
    "filename = file.split('.')[0]\n",
    "\n",
    "tree = ET.parse('./Projects/' + file)\n",
    "root = tree.getroot()"
   ]
  },
  {
   "cell_type": "code",
   "execution_count": 49,
   "metadata": {},
   "outputs": [
    {
     "data": {
      "text/plain": [
       "[<Element ZnSys at 0xa6287ccd08>,\n",
       " <Element ZnSys at 0xa6287cc788>,\n",
       " <Element ZnSys at 0xa6287cc688>,\n",
       " <Element ZnSys at 0xa6287ccc88>,\n",
       " <Element ZnSys at 0xa6287ccc48>]"
      ]
     },
     "execution_count": 49,
     "metadata": {},
     "output_type": "execute_result"
    }
   ],
   "source": [
    "root.findall('./Proj/Bldg/ZnSys')"
   ]
  },
  {
   "cell_type": "code",
   "execution_count": 76,
   "metadata": {},
   "outputs": [
    {
     "name": "stdout",
     "output_type": "stream",
     "text": [
      "      Name  Type     FanCtrl\n",
      "0  FCU 1-2  PTAC  Continuous\n",
      "1  FCU 1-3  PTAC  Continuous\n",
      "2  FCU 1-1  PTAC  Continuous\n",
      "3  FCU 2-1  PTAC  Continuous\n",
      "---\n",
      "   Name     Type ExhSysType\n",
      "0  EF-1  Exhaust    General\n"
     ]
    }
   ],
   "source": [
    "znsyslist = []\n",
    "znexhlist = []\n",
    "\n",
    "for i in root.iter('ZnSys'):\n",
    "    \n",
    "    if i.find('Type').text in ['SZAC','SZHP','SPVAC','SPVHP','FPFC','WSHP','PTAC','PTHP','Furnace','MiniSplitAC','MiniSplitHP']:\n",
    "        znsys = {}\n",
    "        znsys['Name'] = i.find('Name').text\n",
    "        znsys['Type'] = i.find('Type').text\n",
    "        znsys['FanCtrl'] = i.find('FanCtrl').text\n",
    "        znsyslist.append(znsys)\n",
    "    \n",
    "    if i.find('Type').text == 'Exhaust':\n",
    "        znexh = {}\n",
    "        znexh['Name'] = i.find('Name').text\n",
    "        znexh['Type'] = i.find('Type').text\n",
    "        znexh['ExhSysType'] = i.find('ExhSysType').text\n",
    "        znexhlist.append(znexh)\n",
    "\n",
    "znsys_df = pd.DataFrame(znsyslist, columns=znsys.keys())\n",
    "print(znsys_df.head())\n",
    "print('---')\n",
    "\n",
    "znexh_df = pd.DataFrame(znexhlist, columns=znexh.keys())\n",
    "print(znexh_df.head())"
   ]
  },
  {
   "cell_type": "code",
   "execution_count": null,
   "metadata": {},
   "outputs": [],
   "source": []
  }
 ],
 "metadata": {
  "kernelspec": {
   "display_name": "Python 3",
   "language": "python",
   "name": "python3"
  },
  "language_info": {
   "codemirror_mode": {
    "name": "ipython",
    "version": 3
   },
   "file_extension": ".py",
   "mimetype": "text/x-python",
   "name": "python",
   "nbconvert_exporter": "python",
   "pygments_lexer": "ipython3",
   "version": "3.6.8"
  }
 },
 "nbformat": 4,
 "nbformat_minor": 2
}
