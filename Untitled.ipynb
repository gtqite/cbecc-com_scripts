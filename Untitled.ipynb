{
 "cells": [
  {
   "cell_type": "code",
   "execution_count": 2,
   "metadata": {},
   "outputs": [],
   "source": [
    "AHU = 'AHU-1/2'"
   ]
  },
  {
   "cell_type": "code",
   "execution_count": 5,
   "metadata": {},
   "outputs": [],
   "source": [
    "VAV_list = []\n",
    "for i in range(101,124):\n",
    "    VAV_list.append('        <TrmlUnit>\\n          <Name>VAV {0}</Name>\\n          <Type>VAVReheatBox</Type>\\n          <PriAirSegRef>{1}</PriAirSegRef>\\n          <CoilHtg>\\n            <Name>VAV {0} RHC</Name>\\n            <Type>HotWater</Type>\\n            <FluidSegInRef>HWS</FluidSegInRef>\\n            <FluidSegOutRef>HWR</FluidSegOutRef>\\n          </CoilHtg>\\n        </TrmlUnit>'.format(i, AHU))\n",
    "\n",
    "VAV_string = '\\n'.join(VAV_list)"
   ]
  },
  {
   "cell_type": "code",
   "execution_count": 7,
   "metadata": {},
   "outputs": [],
   "source": [
    "file = open('VAV_box.txt','w') \n",
    "file.write(VAV_string)\n",
    "file.close()"
   ]
  },
  {
   "cell_type": "code",
   "execution_count": null,
   "metadata": {},
   "outputs": [],
   "source": []
  }
 ],
 "metadata": {
  "kernelspec": {
   "display_name": "Python 3",
   "language": "python",
   "name": "python3"
  },
  "language_info": {
   "codemirror_mode": {
    "name": "ipython",
    "version": 3
   },
   "file_extension": ".py",
   "mimetype": "text/x-python",
   "name": "python",
   "nbconvert_exporter": "python",
   "pygments_lexer": "ipython3",
   "version": "3.6.8"
  }
 },
 "nbformat": 4,
 "nbformat_minor": 2
}
