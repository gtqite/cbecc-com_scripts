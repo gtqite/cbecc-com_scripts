{
 "cells": [
  {
   "cell_type": "code",
   "execution_count": 1,
   "metadata": {},
   "outputs": [],
   "source": [
    "from lxml import etree as ET\n",
    "import pandas as pd\n",
    "\n",
    "# Presidio Knolls 100CD_No ERV\n",
    "# SRJC STEM Building Title 24\n",
    "\n",
    "file = ('SRJC STEM Building Title 24_noVAV.cibd16x')\n",
    "filename = file.split('.')[0]\n",
    "\n",
    "tree = ET.parse(file)\n",
    "root = tree.getroot()\n",
    "\n",
    "excel_file = filename + ' - dVAVData.xlsx'"
   ]
  },
  {
   "cell_type": "code",
   "execution_count": 2,
   "metadata": {},
   "outputs": [],
   "source": [
    "trml_df_new=pd.read_excel(excel_file,sheet_name='Terminal Units', index_col=0)"
   ]
  },
  {
   "cell_type": "code",
   "execution_count": 5,
   "metadata": {},
   "outputs": [],
   "source": [
    "for i,row in trml_df_new.iterrows():\n",
    "    unit = root.xpath('.//TrmlUnit/Name[text()=\"{}\"]'.format(row['Terminal Unit Name']))[0].getparent()\n",
    "    try:\n",
    "        unit.find('CoilHtg/CapTotGrossRtd').text = str(row['Reheat Coil Capacity'])\n",
    "    except:\n",
    "        CoilHtg = unit.find('CoilHtg')\n",
    "        CoilCap = ET.SubElement(CoilHtg, 'CapTotGrossRtd')\n",
    "        CoilCap.text = str(row['Reheat Coil Capacity'])"
   ]
  },
  {
   "cell_type": "code",
   "execution_count": 6,
   "metadata": {},
   "outputs": [],
   "source": [
    "tree.write(filename + '_new.cibd16x', pretty_print=True)"
   ]
  }
 ],
 "metadata": {
  "kernelspec": {
   "display_name": "Python 3",
   "language": "python",
   "name": "python3"
  },
  "language_info": {
   "codemirror_mode": {
    "name": "ipython",
    "version": 3
   },
   "file_extension": ".py",
   "mimetype": "text/x-python",
   "name": "python",
   "nbconvert_exporter": "python",
   "pygments_lexer": "ipython3",
   "version": "3.7.3"
  }
 },
 "nbformat": 4,
 "nbformat_minor": 2
}
