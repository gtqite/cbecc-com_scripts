{
 "cells": [
  {
   "cell_type": "markdown",
   "metadata": {},
   "source": [
    "# Removing hardsized values\n",
    "This is a sample code block to remove hardsized values in CBECC-com for a specific type of equipment. This example removes the hardsized VAV reheat coil capacities."
   ]
  },
  {
   "cell_type": "code",
   "execution_count": 2,
   "metadata": {},
   "outputs": [],
   "source": [
    "# Import the element tree library and shorten as ET\n",
    "from lxml import etree as ET\n",
    "\n",
    "# Set the file name of the CBECC-com file\n",
    "file = ('SRJC STEM Building Title 24.cibd16x')\n",
    "\n",
    "# ET.parse() will allow python to read the xml file and parse the project as a parent/child tree.\n",
    "# \n",
    "tree = ET.parse(file)\n",
    "root = tree.getroot()\n",
    "\n",
    "for unit in root.iter('TrmlUnit'):\n",
    "    if unit.find('Type').text == 'VAVReheatBox':\n",
    "        try:\n",
    "            unit.find('CoilHtg').remove(unit.find('CoilHtg/CapTotNetRtd'))\n",
    "        except:\n",
    "            try:\n",
    "                unit.find('CoilHtg').remove(unit.find('CoilHtg/CapTotGrossRtd'))\n",
    "            except:\n",
    "                pass\n",
    "            \n",
    "tree.write(filename + '_noVAV.cibd16x', pretty_print=True)"
   ]
  },
  {
   "cell_type": "code",
   "execution_count": 3,
   "metadata": {},
   "outputs": [],
   "source": []
  }
 ],
 "metadata": {
  "kernelspec": {
   "display_name": "Python 3",
   "language": "python",
   "name": "python3"
  },
  "language_info": {
   "codemirror_mode": {
    "name": "ipython",
    "version": 3
   },
   "file_extension": ".py",
   "mimetype": "text/x-python",
   "name": "python",
   "nbconvert_exporter": "python",
   "pygments_lexer": "ipython3",
   "version": "3.7.3"
  }
 },
 "nbformat": 4,
 "nbformat_minor": 2
}
