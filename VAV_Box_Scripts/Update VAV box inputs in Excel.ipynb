{
 "cells": [
  {
   "cell_type": "markdown",
   "metadata": {},
   "source": [
    "### How to use Jupyter Notebook:\n",
    "\n",
    "Jupyter Notebook is split into cell blocks and can run a script one cell block at a time. \n",
    "\n",
    "To run the cells with code, click the cell then click \"Run\" on the toolbar above or hit Ctrl+Shift on the keyboard. Runable cells have the In[ ] on the left side.\n",
    "\n",
    "See the general process of the code and common scripts in the \"README.md\" file and \"CBECC-com python basics\" Jupyter Notebook."
   ]
  },
  {
   "cell_type": "markdown",
   "metadata": {},
   "source": [
    "# Update VAV box inputs in Excel\n",
    "\n",
    "This script extracts user inputs for all VAV boxes in the CBECC-com model into Excel, then allows the user to modify the inputs and re-import it back into Excel\n",
    "\n",
    "*When modifying inputs in Excel, don't change the VAV box name or else the scripts can not properly identify the changes*"
   ]
  },
  {
   "cell_type": "markdown",
   "metadata": {},
   "source": [
    "### Important Notes:\n",
    "- Save this Jupyter Notebook file in the same folder as the CBECC-com file (.cibd16x or .xml). It is recommended to keep a backup file.\n",
    "- Only hard-coded user inputs (red text inputs in CBECC=com) are extracted. If you want to extract CBECC-com autosized inputs, use \"Pull Autosized VAV Capacities.ipynb\" script.\n",
    "- Does not work for active chilled beams or fan-powered boxes.\n",
    "- Currently cannot update the Assigned AHU. Change the Assigned AHU, click and drag in CBECC-com.\n",
    "- This script does not check for CBECC-com errors so make sure your excel sheet inputs are appropriate."
   ]
  },
  {
   "cell_type": "markdown",
   "metadata": {},
   "source": [
    "## Setting up the script\n",
    "Enter the file name of the CBECC-com model you would like to modify and run the following cell block (Ctrl+Shift)."
   ]
  },
  {
   "cell_type": "code",
   "execution_count": null,
   "metadata": {},
   "outputs": [],
   "source": [
    "# Enter the file name of the CBECC-com model. File paths or links do not work.\n",
    "file = ('SRJC STEM Building Title 24.cibd16x')\n",
    "\n",
    "\n",
    "# Importing necessary libraries and setting up xml root\n",
    "from lxml import etree as ET\n",
    "import pandas as pd\n",
    "import numpy as np\n",
    "from IPython.display import Markdown, display\n",
    "\n",
    "filename = file.split('.')[0]\n",
    "filetype = file.split('.')[1]\n",
    "\n",
    "tree = ET.parse(file)\n",
    "root = tree.getroot()\n",
    "\n",
    "excel_file = filename + ' - VAVData.xlsx'"
   ]
  },
  {
   "cell_type": "markdown",
   "metadata": {},
   "source": [
    "## Step 1: Extract VAV box inputs into Excel\n",
    "Following script iterates through all Terminal Units and extracts the information into a dataframe then writes the dataframe into Excel.\n",
    "\n",
    "The extracted excel file will be called \"*filename* - VAVData.xlsx\". Make sure to close the Excel file if re-running Step 1.\n",
    "\n",
    "Run the following cell block. No changes to the code is necessary."
   ]
  },
  {
   "cell_type": "code",
   "execution_count": null,
   "metadata": {
    "hideCode": false,
    "scrolled": true
   },
   "outputs": [],
   "source": [
    "### Parsing the model and creating dataframes\n",
    "\n",
    "trml_unit_list = []\n",
    "\n",
    "for unit in root.iter('TrmlUnit'):\n",
    "    trml = {}\n",
    "    \n",
    "    trml['Terminal Unit Name'] = unit.find('Name').text\n",
    "    trml['Type'] = unit.find('Type').text\n",
    "    trml['Assigned AHU'] = unit.getparent().find('Name').text\n",
    "    trml['Zone Served'] = unit.find('ZnServedRef').text\n",
    "    trml['Primary Flow'] = float(unit.find('PriAirFlowMax').text)\n",
    "    try:\n",
    "        trml['Primary Min. Flow'] = float(unit.find('PriAirFlowMin').text)\n",
    "    except:\n",
    "        pass\n",
    "    \n",
    "    if trml['Type'] == 'VAVReheatBox':\n",
    "        try:\n",
    "            trml['Heating Air Flow'] = float(unit.find('HtgAirFlowMax').text)\n",
    "        except:\n",
    "            pass\n",
    "        try:\n",
    "            trml['Reheat Coil Name'] = unit.find('CoilHtg/Name').text\n",
    "        except:\n",
    "            pass\n",
    "        try:\n",
    "            trml['Reheat Coil Type'] = unit.find('CoilHtg/Type').text\n",
    "        except:\n",
    "            pass\n",
    "        if trml['Reheat Coil Type'] == 'HotWater':\n",
    "            try:\n",
    "                trml['Hot Water Inlet Segment'] = unit.find('CoilHtg/FluidSegInRef').text\n",
    "            except:\n",
    "                pass\n",
    "            try:\n",
    "                trml['Hot Water Outlet Segment'] = unit.find('CoilHtg/FluidSegOutRef').text\n",
    "            except:\n",
    "                pass\n",
    "            \n",
    "        heating_cap = 0\n",
    "        try:\n",
    "            heating_cap += float(unit.find('CoilHtg/CapTotNetRtd').text)\n",
    "        except:\n",
    "            try:\n",
    "                heating_cap += float(unit.find('CoilHtg/CapTotGrossRtd').text)\n",
    "            except:\n",
    "                pass\n",
    "        if heating_cap == 0:\n",
    "            pass\n",
    "        else:\n",
    "            trml['Reheat Coil Capacity'] = heating_cap\n",
    "    trml_unit_list.append(trml)\n",
    "    \n",
    "trml_header = [\n",
    "    'Terminal Unit Name', 'Type', 'Assigned AHU', 'Zone Served', \n",
    "    'Primary Flow', 'Primary Min. Flow', 'Heating Air Flow', \n",
    "    'Reheat Coil Name', 'Reheat Coil Type', 'Hot Water Inlet Segment', \n",
    "    'Hot Water Outlet Segment', 'Reheat Coil Capacity'\n",
    "]\n",
    "    \n",
    "trml_df = pd.DataFrame(trml_unit_list, columns=trml_header)\n",
    "\n",
    "\n",
    "# Writing dataframe into excel\n",
    "writer = pd.ExcelWriter(excel_file, engine='xlsxwriter')\n",
    "trml_df.to_excel(writer,sheet_name='Terminal Units')\n",
    "writer.save()"
   ]
  },
  {
   "cell_type": "markdown",
   "metadata": {
    "hideOutput": false,
    "hidePrompt": false
   },
   "source": [
    "## Step 2: Update the Excel Sheet\n",
    "Open the \"*filename* - VAVData.xlsx\" in the same folder as this script. Make any changes in the Excel file *EXCEPT* for the VAV box name. \n",
    "\n",
    "If changing the VAV box type, make sure the appropriate inputs are filled in. For example, if changing from VAV with no reheat to VAV with reheat, make sure to also add the heating air flow and all the inputs required for the reheat coil.\n",
    "\n",
    "As long as the VAV box names are not changed, Step 1 does not need to be re-run. Re-running Step 1 will reset any changes made in the Excel file. If you need to re-run Step 1 but want to keep the changes from excel, rename or move the original excel file."
   ]
  },
  {
   "cell_type": "markdown",
   "metadata": {},
   "source": [
    "## Step 3: Re-import Excel file updates back into CBECC-com:\n",
    "Make sure to save and close the Excel file and run the following script. \n",
    "\n",
    "The new CBECC-com file will be called \"*filename*_new\".\n",
    "\n",
    "Notes:\n",
    "- The Excel sheet can be modified and re-imported again without re-running Step 1.\n",
    "- Make sure to check for any warnings and errors immediately after running the code block.\n",
    "- No changes to the code is necessary."
   ]
  },
  {
   "cell_type": "code",
   "execution_count": null,
   "metadata": {
    "hideCode": false
   },
   "outputs": [],
   "source": [
    "### Re-parsing root file in case Excel file is attempted to be re-imported\n",
    "\n",
    "tree = ET.parse(file)\n",
    "root = tree.getroot()\n",
    "\n",
    "\n",
    "\n",
    "### Creating a new dataframe from the updated excel sheet and modifying the xml file. \n",
    "\n",
    "trml_df_new=pd.read_excel(excel_file,sheet_name='Terminal Units', index_col=0)\n",
    "\n",
    "for i,row in trml_df_new.iterrows():\n",
    "    unit = root.xpath('.//TrmlUnit/Name[text()=\"{}\"]'.format(row['Terminal Unit Name']))[0].getparent()\n",
    "    \n",
    "    unit.find('Type').text = str(row['Type'])\n",
    "    unit.find('ZnServedRef').text = str(row['Zone Served'])\n",
    "    unit.find('PriAirFlowMax').text = str(row['Primary Flow'])\n",
    "    try:\n",
    "        unit.find('PriAirFlowMin').text = str(row['Primary Min. Flow'])\n",
    "    except:\n",
    "        if row['Type'] != 'Uncontrolled':\n",
    "            min_flow = ET.SubElement(unit, 'PriAirFlowMin')\n",
    "            min_flow.text = str(row['Primary Min. Flow'])\n",
    "    if row['Type'] == 'VAVReheatBox':\n",
    "        try:\n",
    "            unit.find('HtgAirFlowMax').text = str(row['Heating Air Flow'])\n",
    "        except:\n",
    "            heat_flow = ET.SubElement(unit, 'HtgAirFlowMax')\n",
    "            if str(row['Heating Air Flow']) != 'nan':\n",
    "                heat_flow.text = str(row['Heating Air Flow'])\n",
    "            else:\n",
    "                display(Markdown('### <span style=\"color:orange\">Warning - Heating airflow rate for terminal unit {} is blank</span>'.format(row['Terminal Unit Name'])))\n",
    "                pass\n",
    "        \n",
    "        if unit.find('CoilHtg') == None:\n",
    "            HtgCoil = ET.SubElement(unit, 'CoilHtg')\n",
    "        \n",
    "        CoilHtg = unit.find('CoilHtg')\n",
    "        \n",
    "        try:\n",
    "            CoilHtg.find('Name').text = str(row['Reheat Coil Name'])\n",
    "        except:\n",
    "            rhc_name = ET.SubElement(CoilHtg, 'Name')\n",
    "            if str(row['Reheat Coil Name']) != 'nan':\n",
    "                rhc_name.text = str(row['Reheat Coil Name'])\n",
    "            else:\n",
    "                display(Markdown('### <span style=\"color:crimson\">ERROR! - Enter name for heating coil in terminal unit {}</span>'.format(row['Terminal Unit Name'])))\n",
    "                break\n",
    "        try:\n",
    "            CoilHtg.find('Type').text = str(row['Reheat Coil Type'])\n",
    "        except:\n",
    "            rhc_type = ET.SubElement(CoilHtg, 'Type')\n",
    "            if str(row['Reheat Coil Type']) != 'nan':\n",
    "                rhc_type.text = str(row['Reheat Coil Type'])\n",
    "            else:\n",
    "                display(Markdown('### <span style=\"color:orange\">Warning - Enter reheat coil type for {}</span>'.format(rhc_name.text)))\n",
    "                pass\n",
    "        \n",
    "            if rhc_type.text == 'HotWater':\n",
    "                try: \n",
    "                    CoilHtg.find('FluidSegInRef').text = str(row['Hot Water Inlet Segment'])\n",
    "                except:\n",
    "                    rhc_hwi = ET.SubElement(CoilHtg, 'FluidSegInRef')\n",
    "                    if str(row['Hot Water Inlet Segment']) != 'nan':\n",
    "                        rhc_hwi.text = str(row['Hot Water Inlet Segment'])\n",
    "                    else:\n",
    "                        display(Markdown('### <span style=\"color:orange\">Warning - Hot water inlet fluid segment for {} is blank</span>'.format(rhc_name.text)))\n",
    "                        pass\n",
    "                \n",
    "                try: \n",
    "                    CoilHtg.find('FluidSegOutRef').text = str(row['Hot Water Outlet Segment'])\n",
    "                except:\n",
    "                    rhc_hwi = ET.SubElement(CoilHtg, 'FluidSegOutRef')\n",
    "                    if str(row['Hot Water Outlet Segment']) != 'nan':\n",
    "                        rhc_hwi.text = str(row['Hot Water Outlet Segment'])\n",
    "                    else:\n",
    "                        display(Markdown('### <span style=\"color:orange\">Warning - Hot water outlet fluid segment for {} is blank</span>'.format(rhc_name.text)))\n",
    "                        pass\n",
    "        try:\n",
    "            CoilHtg.find('CapTotGrossRtd').text = str(row['Reheat Coil Capacity'])\n",
    "        except:\n",
    "            rhc_cap = ET.SubElement(CoilHtg, 'CapTotGrossRtd')\n",
    "            if str(row['Reheat Coil Capacity']) != 'nan':\n",
    "                rhc_cap.text = str(row['Reheat Coil Capacity'])\n",
    "            else:\n",
    "                display(Markdown('### <span style=\"color:orange\">Warning - Reheat coil capacity for {} is blank</span>'.format(rhc_name.text)))\n",
    "                pass\n",
    "                \n",
    "tree.write(filename + '_new.' + filetype, pretty_print=True)"
   ]
  },
  {
   "cell_type": "markdown",
   "metadata": {},
   "source": [
    "## Check the newly created CBECC-com file\n",
    "\n",
    "Open the new CBECC-com file and make sure the program can properly read the updated inputs. \n",
    "\n",
    "Re-run the cell blocks as necessary. If you to re-run this entire script based on the new CBECC-com file, move/delete the original and name the new file to the old file or change the file name input in Step 1."
   ]
  },
  {
   "cell_type": "markdown",
   "metadata": {},
   "source": [
    "### Future updates to add:\n",
    "\n",
    "Allow the creation of new equipments from the updated Excel file.\n",
    "Data validation in pandas to limit/lock excel cells.\n",
    "Move the assigned AHU from Excel."
   ]
  }
 ],
 "metadata": {
  "kernelspec": {
   "display_name": "Python 3",
   "language": "python",
   "name": "python3"
  },
  "language_info": {
   "codemirror_mode": {
    "name": "ipython",
    "version": 3
   },
   "file_extension": ".py",
   "mimetype": "text/x-python",
   "name": "python",
   "nbconvert_exporter": "python",
   "pygments_lexer": "ipython3",
   "version": "3.7.3"
  }
 },
 "nbformat": 4,
 "nbformat_minor": 2
}
