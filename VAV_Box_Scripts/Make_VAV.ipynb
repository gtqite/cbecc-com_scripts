{
 "cells": [
  {
   "cell_type": "markdown",
   "metadata": {},
   "source": [
    "### How to use Jupyter Notebook:\n",
    "\n",
    "To run the cells with code, click \"Run\" on the toolbar above or hit Ctrl+Shift on the keyboard. Runable cells have the In[ ] on the left side."
   ]
  },
  {
   "cell_type": "markdown",
   "metadata": {},
   "source": [
    "# Create VAV box\n",
    "\n",
    "This simple script will generate a text file with the XML format for VAV Boxes. Paste the generated XML file inside the AirSys element representing the Air Handler you want to assign the VAV boxes to, above /AirSys line. \n",
    "\n",
    "Text file is saved in the same lcoation as the Jupter notebook file\n",
    "\n",
    "Important Notes:\n",
    "- Currently limited to VAV with reheat boxes with hot water reheat coils.\n",
    "- No capacities will be assigned to the reheat coils\n",
    "- The script must be re-run for each AHU and series of VAV boxes\n",
    "- Creates a numbered range of VAV boxes based on the prefix, first, and last tags\n",
    "\n",
    "<img src=\"Images/VAVBoxPaste.png\" width=\"600\" align=\"left\"></img>"
   ]
  },
  {
   "cell_type": "markdown",
   "metadata": {},
   "source": [
    "## Set up parameter names"
   ]
  },
  {
   "cell_type": "code",
   "execution_count": null,
   "metadata": {},
   "outputs": [],
   "source": [
    "filename = 'VAV_box.txt' #Name of text file to be generated\n",
    "\n",
    "AHU = 'AHU-1'      # Air handler unit name\n",
    "HWS = 'HWS'        # Supply hot water segment\n",
    "HWR = 'HWR'        # Return hot water segment\n",
    "\n",
    "prefix = 'VAV'     # Tag name of the VAV box (eg. \"VAV\"-102)\n",
    "first = 101        # First tag number\n",
    "last = 124         # Last tag number"
   ]
  },
  {
   "cell_type": "markdown",
   "metadata": {},
   "source": [
    "## Create a list of VAV boxes "
   ]
  },
  {
   "cell_type": "code",
   "execution_count": null,
   "metadata": {},
   "outputs": [],
   "source": [
    "file = open(filename,'w')\n",
    "\n",
    "VAV_list = []\n",
    "for i in range(first, last):\n",
    "    VAV_list.append('        <TrmlUnit>\\n          <Name>{4} {0}</Name>\\n          <Type>VAVReheatBox</Type>\\n          <PriAirSegRef>{1}</PriAirSegRef>\\n          <CoilHtg>\\n            <Name>{4} {0} RHC</Name>\\n            <Type>HotWater</Type>\\n            <FluidSegInRef>{2}</FluidSegInRef>\\n            <FluidSegOutRef>{3}</FluidSegOutRef>\\n          </CoilHtg>\\n        </TrmlUnit>'.format(i, AHU, HWS, HWR, prefix))\n",
    "\n",
    "VAV_string = '\\n'.join(VAV_list)\n",
    "file.write(VAV_string)\n",
    "file.close()\n"
   ]
  }
 ],
 "metadata": {
  "kernelspec": {
   "display_name": "Python 3",
   "language": "python",
   "name": "python3"
  },
  "language_info": {
   "codemirror_mode": {
    "name": "ipython",
    "version": 3
   },
   "file_extension": ".py",
   "mimetype": "text/x-python",
   "name": "python",
   "nbconvert_exporter": "python",
   "pygments_lexer": "ipython3",
   "version": "3.7.3"
  }
 },
 "nbformat": 4,
 "nbformat_minor": 2
}
